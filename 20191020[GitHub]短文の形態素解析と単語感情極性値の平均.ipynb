{
 "cells": [
  {
   "cell_type": "code",
   "execution_count": 1,
   "metadata": {},
   "outputs": [],
   "source": [
    "#目的：手入力した文字を感情分析する"
   ]
  },
  {
   "cell_type": "code",
   "execution_count": 2,
   "metadata": {},
   "outputs": [],
   "source": [
    "# 単語感情極性表の文字化け解消＞成功\n",
    "import csv\n",
    "filename = \"pn_ja.dic.txt\"\n",
    "\n",
    "with open('pn_ja_dic.csv', 'w') as f:\n",
    "\n",
    "    writer = csv.writer(f)\n",
    "    writer.writerow([\"単語\", \"読み方\", \"品詞\", \"単語感情極性値\", ])\n",
    "\n",
    "    with open(filename, \"r\",encoding='cp932') as f:\n",
    "        line = f.readline()\n",
    "        while line:\n",
    "            line = line.split(\":\")\n",
    "            line[3] = line[3].replace('\\n','')\n",
    "\n",
    "            #CSV出力\n",
    "            writer.writerow(line)\n",
    "\n",
    "            line = f.readline()"
   ]
  },
  {
   "cell_type": "code",
   "execution_count": 3,
   "metadata": {},
   "outputs": [
    {
     "name": "stdout",
     "output_type": "stream",
     "text": [
      "         単語   読み方   品詞   単語感情極性値\n",
      "0       優れる  すぐれる   動詞  1.000000\n",
      "1        良い    よい  形容詞  0.999995\n",
      "2        喜ぶ  よろこぶ   動詞  0.999979\n",
      "3       褒める   ほめる   動詞  0.999979\n",
      "4      めでたい  めでたい  形容詞  0.999645\n",
      "...     ...   ...  ...       ...\n",
      "55120    ない    ない  助動詞 -0.999997\n",
      "55121    酷い   ひどい  形容詞 -0.999997\n",
      "55122    病気  びょうき   名詞 -0.999998\n",
      "55123    死ぬ    しぬ   動詞 -0.999999\n",
      "55124    悪い   わるい  形容詞 -1.000000\n",
      "\n",
      "[55125 rows x 4 columns]\n",
      "単語感情極性値    0.999979\n",
      "Name: 3, dtype: object\n"
     ]
    }
   ],
   "source": [
    "#csvファイルから特定の情報を取り出す＞成功\n",
    "\n",
    "#まずpandasにする\n",
    "import pandas as pd\n",
    "pn_data=pd.read_csv('pn_ja_dic.csv')\n",
    "\n",
    "print(pn_data)\n",
    "print(pn_data.loc[3,['単語感情極性値']])"
   ]
  },
  {
   "cell_type": "code",
   "execution_count": 4,
   "metadata": {},
   "outputs": [],
   "source": [
    "#mecabを使って形態素に分け、原型を抽出する\n",
    "\n",
    "import MeCab\n",
    "def word_stem(text):\n",
    "    tagger = MeCab.Tagger(\"-Ochasen\")#形態素解析\"-Ochasen\"は形式を決めるパラメータ\n",
    "    result_vector = tagger.parse(text)\n",
    "    return result_vector"
   ]
  },
  {
   "cell_type": "code",
   "execution_count": 5,
   "metadata": {},
   "outputs": [],
   "source": [
    "text=\"優れた作品だと認められたね。めでたいなあ。\""
   ]
  },
  {
   "cell_type": "raw",
   "metadata": {},
   "source": []
  },
  {
   "cell_type": "code",
   "execution_count": 6,
   "metadata": {},
   "outputs": [],
   "source": [
    "#コピペ：mecabの出力をリストにする\n",
    "def mecab_list(text):\n",
    "    tagger = MeCab.Tagger(\"-Ochasen\")\n",
    "    tagger.parse('')\n",
    "    node = tagger.parseToNode(text)\n",
    "    word_class = []\n",
    "    while node:\n",
    "        word = node.surface\n",
    "        wclass = node.feature.split(',')\n",
    "        if wclass[0] != u'BOS/EOS':\n",
    "            if wclass[6] == None:\n",
    "                word_class.append([word,wclass[0],wclass[1],wclass[2],wclass[5],\"\"])\n",
    "            else:\n",
    "                word_class.append([word,wclass[0],wclass[1],wclass[2],wclass[5],wclass[6]])\n",
    "        node = node.next\n",
    "    return word_class"
   ]
  },
  {
   "cell_type": "code",
   "execution_count": null,
   "metadata": {},
   "outputs": [],
   "source": []
  },
  {
   "cell_type": "code",
   "execution_count": 7,
   "metadata": {},
   "outputs": [
    {
     "name": "stdout",
     "output_type": "stream",
     "text": [
      "[1.0]\n",
      "[1.0, -0.449062]\n",
      "[1.0, -0.449062, -0.21579299999999998]\n",
      "[1.0, -0.449062, -0.21579299999999998, -0.19584000000000001]\n",
      "[1.0, -0.449062, -0.21579299999999998, -0.19584000000000001, -0.547493]\n",
      "[1.0, -0.449062, -0.21579299999999998, -0.19584000000000001, -0.547493, 0.9996450000000001]\n",
      "0.09857616666666667\n"
     ]
    }
   ],
   "source": [
    "#文章の平均の感情極性を出力\n",
    "result=[]\n",
    "\n",
    "for stem in range(len(mecab_list(text))):\n",
    "    for i in range(55125):\n",
    "        if pn_data.at[i,'単語']==mecab_list(text)[stem][5]:\n",
    "            result.append(pn_data.at[i,'単語感情極性値'])\n",
    "            print(result)\n",
    "print(sum(result)/len(result))"
   ]
  },
  {
   "cell_type": "code",
   "execution_count": null,
   "metadata": {},
   "outputs": [],
   "source": []
  }
 ],
 "metadata": {
  "kernelspec": {
   "display_name": "Python 3",
   "language": "python",
   "name": "python3"
  },
  "language_info": {
   "codemirror_mode": {
    "name": "ipython",
    "version": 3
   },
   "file_extension": ".py",
   "mimetype": "text/x-python",
   "name": "python",
   "nbconvert_exporter": "python",
   "pygments_lexer": "ipython3",
   "version": "3.7.3"
  }
 },
 "nbformat": 4,
 "nbformat_minor": 2
}
